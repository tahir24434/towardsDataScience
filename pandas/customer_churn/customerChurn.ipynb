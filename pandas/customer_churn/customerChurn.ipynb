{
 "cells": [
  {
   "cell_type": "code",
   "execution_count": null,
   "id": "afc9fdba-c51b-44cf-8a4e-cf41f6a57635",
   "metadata": {
    "tags": []
   },
   "outputs": [],
   "source": [
    "from pathlib import Path\n",
    "import pandas as pd\n",
    "import os\n",
    "HERE = Path('__file__').parent.resolve()"
   ]
  },
  {
   "cell_type": "code",
   "execution_count": null,
   "id": "09494dcd-62a9-421a-a771-ef7a17e4448c",
   "metadata": {
    "tags": []
   },
   "outputs": [],
   "source": [
    "df = pd.read_csv(HERE / \"customerChurn.csv\")"
   ]
  },
  {
   "cell_type": "code",
   "execution_count": null,
   "id": "818630a1-9395-491b-8ff1-cca647dc20d0",
   "metadata": {
    "tags": []
   },
   "outputs": [],
   "source": [
    "df.head()"
   ]
  }
 ],
 "metadata": {
  "kernelspec": {
   "display_name": "fastaiCourse",
   "language": "python",
   "name": "fastaicourse"
  },
  "language_info": {
   "codemirror_mode": {
    "name": "ipython",
    "version": 3
   },
   "file_extension": ".py",
   "mimetype": "text/x-python",
   "name": "python",
   "nbconvert_exporter": "python",
   "pygments_lexer": "ipython3",
   "version": "3.10.10"
  }
 },
 "nbformat": 4,
 "nbformat_minor": 5
}
