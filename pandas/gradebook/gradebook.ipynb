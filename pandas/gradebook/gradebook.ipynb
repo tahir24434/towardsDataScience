{
 "cells": [
  {
   "cell_type": "markdown",
   "id": "0269c7df-f59d-4e15-b370-f9ea411f9087",
   "metadata": {},
   "source": [
    "[WIP] Project: https://realpython.com/pandas-project-gradebook/ "
   ]
  },
  {
   "cell_type": "markdown",
   "id": "53b05e9d-597b-4aaa-a905-787b9953751c",
   "metadata": {},
   "source": [
    "### Loading the data"
   ]
  },
  {
   "cell_type": "code",
   "execution_count": null,
   "id": "82a11cdc-3320-47df-9478-101e68c44a55",
   "metadata": {
    "tags": []
   },
   "outputs": [],
   "source": [
    "from pathlib import Path\n",
    "import pandas as pd\n",
    "import os\n",
    "HERE = Path('__file__').parent\n",
    "print(HERE)\n",
    "DATA_FOLDER = HERE / \"gradebook/data\"\n",
    "print(DATA_FOLDER)"
   ]
  },
  {
   "cell_type": "code",
   "execution_count": null,
   "id": "28b1b06a-6189-4324-92d9-6b3fd7f35691",
   "metadata": {
    "tags": []
   },
   "outputs": [],
   "source": [
    "roster = pd.read_csv(DATA_FOLDER / \"roster.csv\")\n",
    "roster.head()"
   ]
  },
  {
   "cell_type": "code",
   "execution_count": null,
   "id": "87381779-c78d-4ff4-9757-bc063d75a1d5",
   "metadata": {
    "tags": []
   },
   "outputs": [],
   "source": [
    "roster = pd.read_csv(\n",
    "    DATA_FOLDER / \"roster.csv\",\n",
    "    converters={\"NetID\": str.lower, \"Email Address\": str.lower},\n",
    "    usecols=[\"Section\", \"Email Address\", \"NetID\"],\n",
    "    index_col=\"NetID\",\n",
    ")\n",
    "roster.head()"
   ]
  },
  {
   "cell_type": "code",
   "execution_count": null,
   "id": "aaf915f0-0c08-4d6a-aa30-c95944b29f28",
   "metadata": {
    "tags": []
   },
   "outputs": [],
   "source": [
    "hw_exam_grades = pd.read_csv(DATA_FOLDER / \"hw_exam_grades.csv\")\n",
    "hw_exam_grades.columns"
   ]
  },
  {
   "cell_type": "code",
   "execution_count": null,
   "id": "af50c185-59b6-43b6-aba9-f96851e31ab2",
   "metadata": {
    "tags": []
   },
   "outputs": [],
   "source": [
    "hw_exam_grades = pd.read_csv(DATA_FOLDER / \"hw_exam_grades.csv\",\n",
    "  converters={\"SID\": str.lower},\n",
    "  usecols=lambda x: \"Submission Time\" not in x,\n",
    "  index_col=\"SID\")\n",
    "hw_exam_grades.head()"
   ]
  },
  {
   "cell_type": "code",
   "execution_count": null,
   "id": "db629e37-2688-4edf-a36e-cac31244bc1c",
   "metadata": {},
   "outputs": [],
   "source": [
    "quiz_grades = pd.DataFrame()\n",
    "for file_path in DATA_FOLDER.glob(\"quiz_*_grades.csv\"):    # https://docs.python.org/3/library/glob.html                                 \n",
    "    quiz_name = \"\".join(file_path.stem.title().split(\"_\")[:2]) # file_path.stem: Final path component without its suffix\n",
    "    # print(file_path.stem, quiz_name)                    \n",
    "    quiz = pd.read_csv(file_path, \n",
    "                      converters={\"Email\": str.lower},\n",
    "                      index_col=[\"Email\"],\n",
    "                      usecols=[\"Email\", \"Grade\"]).rename(columns={\"Grade\": quiz_name})\n",
    "    quiz_grades = pd.concat([quiz_grades, quiz], axis=1)\n",
    "quiz_grades"
   ]
  },
  {
   "cell_type": "markdown",
   "id": "f130f8f3-56da-4e17-a943-e1ef8d142bd0",
   "metadata": {},
   "source": [
    "### Merging DataFrames"
   ]
  },
  {
   "cell_type": "code",
   "execution_count": null,
   "id": "91b8dfd7-0f2e-4bd6-b4b1-7024c369f5fd",
   "metadata": {
    "tags": []
   },
   "outputs": [],
   "source": [
    "# Merge DataFrame or named Series objects with a database-style join.\n",
    "# Default join is inner i.e to use intersection of keys from both frames\n",
    "data = pd.merge(\n",
    "    roster,\n",
    "    hw_exam_grades,\n",
    "    left_index=True,       # Use the index from the left DataFrame as the join key(s)\n",
    "    right_index=True,      # Use the index from the right DataFrame as the join key\n",
    ")"
   ]
  },
  {
   "cell_type": "code",
   "execution_count": null,
   "id": "a9d2a222-382f-4798-a53a-699d4ec6b80e",
   "metadata": {
    "tags": []
   },
   "outputs": [],
   "source": [
    "data"
   ]
  },
  {
   "cell_type": "code",
   "execution_count": null,
   "id": "8a667022-1592-41ca-93f7-ca992ba9e523",
   "metadata": {
    "tags": []
   },
   "outputs": [],
   "source": [
    "final_data = pd.merge(data, quiz_grades, left_on=\"Email Address\", right_index=True)\n",
    "final_data"
   ]
  },
  {
   "cell_type": "code",
   "execution_count": null,
   "id": "18f356e6-468c-47d6-a16f-518ce641c32d",
   "metadata": {
    "tags": []
   },
   "outputs": [],
   "source": [
    "final_data = final_data.fillna(0)\n",
    "final_data"
   ]
  },
  {
   "cell_type": "markdown",
   "id": "9021745e-ad0f-4ec0-a8c6-59c594c63755",
   "metadata": {},
   "source": [
    "### Calculating Grades"
   ]
  },
  {
   "cell_type": "code",
   "execution_count": null,
   "id": "62c85c93-bf13-4c34-a239-c9ec4cbf5a30",
   "metadata": {},
   "outputs": [],
   "source": []
  }
 ],
 "metadata": {
  "kernelspec": {
   "display_name": "fastaiCourse",
   "language": "python",
   "name": "fastaicourse"
  },
  "language_info": {
   "codemirror_mode": {
    "name": "ipython",
    "version": 3
   },
   "file_extension": ".py",
   "mimetype": "text/x-python",
   "name": "python",
   "nbconvert_exporter": "python",
   "pygments_lexer": "ipython3",
   "version": "3.10.9"
  }
 },
 "nbformat": 4,
 "nbformat_minor": 5
}
