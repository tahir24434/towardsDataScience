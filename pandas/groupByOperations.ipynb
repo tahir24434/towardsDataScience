{
 "cells": [
  {
   "cell_type": "markdown",
   "id": "f3bc5d1e-2dfb-461e-b4d5-b29aa6833379",
   "metadata": {},
   "source": [
    "# GroupBy : Split-Apply-Combine\n",
    "\n",
    "A groupby statement can be thought of as creating a subset of each unique value of a column. operation involves some combination of split, apply and combine.  \n",
    "- **Splitting** the data into groups based on some criteria.\n",
    "- **Applying** a function to each group independently. In the apply step, we might wish to do one of following\n",
    "  - *Aggregation*: Compute a summary statistic (sum, mean, size, count or user defined function)  to each group\n",
    "  - *Transformation*: perform some group-specific computations and return a like-indexed object e.g Standardize data (zscore) within a group, Filling NAs within groups with a value derived from each group.\n",
    "  - *Filtration*:  discard some groups, according to a group-wise computation that evaluates True or False. Discard data that belongs to groups with only a few members. Filter out data based on the group sum or mean.\n",
    "  - Some combination of the above\n",
    "- Combining the results into a data structure."
   ]
  },
  {
   "cell_type": "code",
   "execution_count": null,
   "id": "4afca7be-a6a7-4e7f-87dc-e61492c32699",
   "metadata": {
    "tags": []
   },
   "outputs": [],
   "source": [
    "import pandas as pd\n",
    "from pathlib import Path\n",
    "\n",
    "HERE = Path('__file__').parent.resolve()\n",
    "DATA = HERE / 'data'\n",
    "df = pd.read_csv(DATA / 'ds_salaries_v2.csv')\n",
    "df.head()"
   ]
  },
  {
   "cell_type": "markdown",
   "id": "681d2ce7-0cc2-4124-b745-29aa9762abd9",
   "metadata": {},
   "source": [
    "## 1.1 Splitting an object into groups\n",
    "To create a groupBy object, you can do following"
   ]
  },
  {
   "cell_type": "code",
   "execution_count": null,
   "id": "f697426e-7179-4555-91e9-ce6363280032",
   "metadata": {
    "tags": []
   },
   "outputs": [],
   "source": [
    "grouped = df.groupby('job_title')"
   ]
  },
  {
   "cell_type": "code",
   "execution_count": null,
   "id": "29c8a27f-ccbc-4f98-9423-3bedfd02e924",
   "metadata": {
    "tags": []
   },
   "outputs": [],
   "source": [
    "# Iterate through groups\n",
    "for name, group in grouped:\n",
    "    print(name)\n",
    "    #print(group)"
   ]
  },
  {
   "cell_type": "code",
   "execution_count": null,
   "id": "b98de249-d30a-4fd9-b583-945e7317f445",
   "metadata": {
    "tags": []
   },
   "outputs": [],
   "source": [
    "# GroupBy object attributes. \n",
    "grouped.groups               # dict. Keys: computed unique groups, values: axis labels belonging to each group."
   ]
  },
  {
   "cell_type": "code",
   "execution_count": null,
   "id": "feb0fc85-8d92-40e4-9831-9bcf9f82cd73",
   "metadata": {
    "tags": []
   },
   "outputs": [],
   "source": [
    "# Select a group\n",
    "grouped.get_group(\"AI Developer\")"
   ]
  },
  {
   "cell_type": "markdown",
   "id": "eb35b9fc-3df2-4b78-b829-1d1f8956744c",
   "metadata": {
    "tags": []
   },
   "source": [
    "## 1.2 Applying a function on groups"
   ]
  },
  {
   "cell_type": "markdown",
   "id": "2d6923bd-f883-43db-9095-6fec0c039636",
   "metadata": {},
   "source": [
    "### 1.2.1 Aggregate\n",
    "In aggregation, some type of reduction is involved. For example, with 'mean', you take multiple values and replace them with a single value."
   ]
  },
  {
   "cell_type": "markdown",
   "id": "c6364497-b021-4093-af94-d58bb52e3969",
   "metadata": {},
   "source": [
    "#### Basic one variable group aggregation"
   ]
  },
  {
   "cell_type": "code",
   "execution_count": null,
   "id": "8c3ba745-99ed-4f43-bca5-ecb5e4316999",
   "metadata": {
    "tags": []
   },
   "outputs": [],
   "source": [
    "# Full/Part time, Contractor, Freelancer\n",
    "df.groupby('employment_type')['salary_in_usd'].mean()"
   ]
  },
  {
   "cell_type": "code",
   "execution_count": null,
   "id": "59be08cd-a7ff-4ddd-994c-f98d8a6803cd",
   "metadata": {
    "tags": []
   },
   "outputs": [],
   "source": [
    "# SE: Senior, EN: Entry, EX: Executive, MI: Mid/Intermeidate\n",
    "df.groupby(['job_title', 'experience_level'])['salary_in_usd'].mean()"
   ]
  },
  {
   "cell_type": "markdown",
   "id": "6453bb9e-e6bc-4690-8ad4-695645be73d9",
   "metadata": {
    "tags": []
   },
   "source": [
    "#### Built-in aggregation methods\n",
    "Apart from mean, below are the list of build-in methods. See official documentation https://pandas.pydata.org/docs/user_guide/groupby.html#built-in-aggregation-methods. "
   ]
  },
  {
   "cell_type": "markdown",
   "id": "3fd35ec6-a1bf-4d1f-9f34-ee67f13ddf03",
   "metadata": {},
   "source": [
    "| Method | Description |\n",
    "| --- | --- |\n",
    "| mean/median/std/sum/prod | Compute the mean/median/standard-deviation/sum/prod of values in each group |\n",
    "| count | Compute the number of non-NA values in the groups |\n",
    "| size | Compute the number of values in each group |\n",
    "| max/min | Compute the maximum/minimum value in each group |\n",
    "| any/all | Compute whether any/all of the values in the groups are truthy |\n",
    "| first/last | Get the first/last occuring value in each group |\n",
    "\n"
   ]
  },
  {
   "cell_type": "code",
   "execution_count": null,
   "id": "bf22c292-f551-4c35-a4f2-03eb57baed2e",
   "metadata": {
    "tags": []
   },
   "outputs": [],
   "source": [
    "df.groupby('employment_type').first()"
   ]
  },
  {
   "cell_type": "markdown",
   "id": "7e73b8e3-6682-48aa-b819-c8daf100c1ee",
   "metadata": {},
   "source": [
    "One can also calculate multiple summary statistics simultaneously with .describe()"
   ]
  },
  {
   "cell_type": "code",
   "execution_count": null,
   "id": "d6f567c1-a946-44a8-9c44-ab12853ee35d",
   "metadata": {
    "tags": []
   },
   "outputs": [],
   "source": [
    "df.groupby('employment_type')['salary_in_usd'].describe()"
   ]
  },
  {
   "cell_type": "markdown",
   "id": "f8e178d3-3fb8-4f78-a5fe-0e36e93490fc",
   "metadata": {
    "tags": []
   },
   "source": [
    "#### The aggregate() method\n",
    "Any reduction method that pandas implements can be passed as a string to aggregate()."
   ]
  },
  {
   "cell_type": "code",
   "execution_count": null,
   "id": "8e7b39d8-aa93-41fd-960a-1f36ce306375",
   "metadata": {
    "tags": []
   },
   "outputs": [],
   "source": [
    "# One can also compute several aggregations at the same time\n",
    "df.groupby(['employment_type'])['salary_in_usd'].aggregate('sum')\n",
    "df.groupby(['employment_type'])['salary_in_usd'].aggregate(['mean', 'min', 'max'])"
   ]
  },
  {
   "cell_type": "markdown",
   "id": "fb6fe5d9-cae0-4809-a719-17d1b1067901",
   "metadata": {},
   "source": [
    "#### Aggregation with user-defined functions\n",
    "Users can also provide their own user defined functions for custom aggregations."
   ]
  },
  {
   "cell_type": "code",
   "execution_count": null,
   "id": "d53e25ed-ac16-4f1b-8f09-f4adf2b0f4e8",
   "metadata": {
    "tags": []
   },
   "outputs": [],
   "source": [
    "# Define a custom aggregation function\n",
    "def custom_aggregation(values):\n",
    "    # Compute the sum of after tax salaries\n",
    "    sum_squares = (values - (values*0.40)).sum()\n",
    "    return sum_squares\n",
    "\n",
    "df.groupby(['work_year'])['salary_in_usd'].aggregate(custom_aggregation)"
   ]
  },
  {
   "cell_type": "markdown",
   "id": "1cb883bd-3d7d-41b9-bee8-96147e35efb0",
   "metadata": {
    "tags": []
   },
   "source": [
    "### 1.2.2 Transformation\n",
    "transfer() takes multiple values and returns a one-to-one transformation of those values. It is used to apply a function to each group of values in a DataFrame. By passing the values from our DataFrame into a function, we can perform computations or manipulations specific to each group independently"
   ]
  },
  {
   "cell_type": "code",
   "execution_count": null,
   "id": "69c0cf89-3acd-4fec-844d-e03657f7476f",
   "metadata": {},
   "outputs": [],
   "source": [
    "data = {\n",
    "\"Name\": [\"Inaya\", \"Aizel\", \"Sara\",\"Hania\", \"Umar\", \"Ayleen\", \"Monal\"],\n",
    "\"City\": [\"SJC\", \"SC\", \"SC\", \"LM\", \"SJC\", \"LM\", \"SC\"],\n",
    "\"Age\": [9, 1, 2, 3, 5, 6, 9]\n",
    "}\n",
    "df = pd.DataFrame(data, index=[10, 11, 12, 13, 14, 15, 16])\n",
    "df"
   ]
  },
  {
   "cell_type": "code",
   "execution_count": null,
   "id": "24397dd0-71df-45ba-8b43-0f545ee9ef6f",
   "metadata": {
    "tags": []
   },
   "outputs": [],
   "source": [
    "df.groupby('City')['Age'].transform(lambda x: x+10)"
   ]
  },
  {
   "cell_type": "code",
   "execution_count": null,
   "id": "2fffd8f3-53c0-4b8c-94d7-383516a65d2f",
   "metadata": {
    "tags": []
   },
   "outputs": [],
   "source": [
    "df.groupby('City')['Age'].cumsum()"
   ]
  },
  {
   "cell_type": "markdown",
   "id": "62f95859-60b6-4b75-aec5-9eb416b2cd18",
   "metadata": {
    "tags": []
   },
   "source": [
    "#### Built-in transformation methods"
   ]
  },
  {
   "cell_type": "markdown",
   "id": "ca2f2d60-77b2-47d9-8111-5fead52e9e19",
   "metadata": {},
   "source": [
    "| Method | Description |\n",
    "| --- | --- |\n",
    "| bfill() | Backfill NA values within each group |\n",
    "| cumcount() | Compute the cumulative count within each group |\n",
    "| cummin/max() | Compute the cumulative min/max within each group |\n",
    "| cumsum/cumprod | Compute the cumulative sum/prod within each group |\n",
    "| rank | Compute the rank of each value within each group |"
   ]
  },
  {
   "cell_type": "code",
   "execution_count": null,
   "id": "172936da-a379-4abe-8fb5-c1faafe2978f",
   "metadata": {
    "tags": []
   },
   "outputs": [],
   "source": [
    "df.groupby('City')['Age'].cumcount()"
   ]
  },
  {
   "cell_type": "markdown",
   "id": "ade0b238-f017-4a6d-8b96-2c1477c011d5",
   "metadata": {},
   "source": [
    "#### The transform() method\n",
    "Similar to the aggregation method, the transform() method can accept string aliases to the built-in transformation methods in the previous section"
   ]
  },
  {
   "cell_type": "code",
   "execution_count": null,
   "id": "aba51563-8df9-4e75-8758-3746b61d91ff",
   "metadata": {
    "tags": []
   },
   "outputs": [],
   "source": [
    "df.groupby('City')['Age'].transform('sum')"
   ]
  },
  {
   "cell_type": "markdown",
   "id": "410502f5-4d59-472d-9462-2bd98d749df6",
   "metadata": {
    "tags": []
   },
   "source": [
    "### 1.2.3 Filteratoin\n",
    "A filtration is a GroupBy operation that subsets the original grouping object based on a specified condition or criteria. It may either filter out entire groups, part of groups, or both."
   ]
  },
  {
   "cell_type": "code",
   "execution_count": null,
   "id": "7b55a046-5bd1-4ac7-b82e-d606c1cdafa8",
   "metadata": {
    "tags": []
   },
   "outputs": [],
   "source": [
    "# Select the top/bottom row(s) of each group. head/tail\n",
    "df.groupby('City')['Age'].head(1)"
   ]
  },
  {
   "cell_type": "code",
   "execution_count": null,
   "id": "53ebad5c-d716-4627-9fb1-897167826de7",
   "metadata": {
    "tags": []
   },
   "outputs": [],
   "source": [
    "# Select the nth row(s) of each group\n",
    "df.groupby('City')['Age'].nth()"
   ]
  },
  {
   "cell_type": "markdown",
   "id": "e8ba3cfc-c505-4a83-88d0-5cf865875394",
   "metadata": {},
   "source": [
    "Users can also use transformation along with Boolean indexing to construct complex functions within groups. "
   ]
  },
  {
   "cell_type": "markdown",
   "id": "a5d7ff7e-d454-4ace-a1ee-6536d59b2812",
   "metadata": {
    "tags": []
   },
   "source": [
    "#### The filter method"
   ]
  },
  {
   "cell_type": "code",
   "execution_count": null,
   "id": "0d27f1e0-fc0a-4c30-a446-b75637a8a51b",
   "metadata": {
    "tags": []
   },
   "outputs": [],
   "source": [
    "# Filter groups with greater than 2 records.\n",
    "df.groupby('City')['Age'].filter(lambda x: x.count() > 2)"
   ]
  },
  {
   "cell_type": "code",
   "execution_count": null,
   "id": "a6feac98-22ed-4811-a39b-e107dce80227",
   "metadata": {},
   "outputs": [],
   "source": []
  }
 ],
 "metadata": {
  "kernelspec": {
   "display_name": "fastaiCourse",
   "language": "python",
   "name": "fastaicourse"
  },
  "language_info": {
   "codemirror_mode": {
    "name": "ipython",
    "version": 3
   },
   "file_extension": ".py",
   "mimetype": "text/x-python",
   "name": "python",
   "nbconvert_exporter": "python",
   "pygments_lexer": "ipython3",
   "version": "3.10.10"
  }
 },
 "nbformat": 4,
 "nbformat_minor": 5
}
