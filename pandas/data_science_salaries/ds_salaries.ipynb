{
 "cells": [
  {
   "cell_type": "markdown",
   "id": "2969e6bf-90de-472b-ba8a-0ecfa947008b",
   "metadata": {},
   "source": [
    "https://www.kaggle.com/datasets/arnabchaki/data-science-salaries-2023?select=ds_salaries.csv"
   ]
  },
  {
   "cell_type": "code",
   "execution_count": null,
   "id": "43d8bcfe-207d-45a5-8cfc-ec261121cab9",
   "metadata": {
    "tags": []
   },
   "outputs": [],
   "source": [
    "import pandas as pd\n",
    "from pathlib import Path\n",
    "import seaborn as sns\n",
    "import matplotlib.pyplot as plt\n",
    "import plotly.express as px\n",
    "import plotly.figure_factory as ff\n",
    "import plotly.graph_objects as go"
   ]
  },
  {
   "cell_type": "code",
   "execution_count": null,
   "id": "d4eafae8-5a5b-421b-87f9-4707749bd43f",
   "metadata": {
    "tags": []
   },
   "outputs": [],
   "source": [
    "HERE = Path('__file__').parent.resolve()\n",
    "df = pd.read_csv(HERE / 'ds_salaries.csv')\n",
    "df.head()"
   ]
  },
  {
   "cell_type": "code",
   "execution_count": null,
   "id": "6b6f2fdc-373d-4886-acdb-cf7186911d10",
   "metadata": {
    "tags": []
   },
   "outputs": [],
   "source": [
    "df.drop(df[['salary', 'salary_currency']], axis=1, inplace=True)\n",
    "df.head()"
   ]
  },
  {
   "cell_type": "code",
   "execution_count": null,
   "id": "0bbe681f-682c-4c4d-9f0b-30a9031b1df7",
   "metadata": {
    "tags": []
   },
   "outputs": [],
   "source": [
    "df = df[df.employee_residence=='US']\n",
    "df.head()"
   ]
  },
  {
   "cell_type": "code",
   "execution_count": null,
   "id": "389e0732-2e0d-4c69-8f80-6664186404af",
   "metadata": {
    "tags": []
   },
   "outputs": [],
   "source": [
    "df['experience_level'] = df['experience_level'].replace('EN','Entry-level/Junior')\n",
    "df['experience_level'] = df['experience_level'].replace('MI','Mid-level/Intermediate')\n",
    "df['experience_level'] = df['experience_level'].replace('SE','Senior-level/Expert')\n",
    "df['experience_level'] = df['experience_level'].replace('EX','Executive-level/Director')\n",
    "df"
   ]
  },
  {
   "cell_type": "code",
   "execution_count": null,
   "id": "e34c0715-200f-4577-aaf7-5c6ad4cf531d",
   "metadata": {
    "tags": []
   },
   "outputs": [],
   "source": [
    "ex_level = df['experience_level'].value_counts()\n",
    "ex_level.index"
   ]
  },
  {
   "cell_type": "code",
   "execution_count": null,
   "id": "5d29ee92-3114-4402-bc30-9af9c4dec00a",
   "metadata": {
    "tags": []
   },
   "outputs": [],
   "source": [
    "fig = px.treemap(ex_level, path = [ex_level.index], values = ex_level.values, \n",
    "                title = 'Experience Level')\n",
    "fig.show()"
   ]
  },
  {
   "cell_type": "code",
   "execution_count": null,
   "id": "c59568a0-55b6-4bb3-a3ec-b0da28085c98",
   "metadata": {},
   "outputs": [],
   "source": []
  }
 ],
 "metadata": {
  "kernelspec": {
   "display_name": "fastaiCourse",
   "language": "python",
   "name": "fastaicourse"
  },
  "language_info": {
   "codemirror_mode": {
    "name": "ipython",
    "version": 3
   },
   "file_extension": ".py",
   "mimetype": "text/x-python",
   "name": "python",
   "nbconvert_exporter": "python",
   "pygments_lexer": "ipython3",
   "version": "3.10.10"
  }
 },
 "nbformat": 4,
 "nbformat_minor": 5
}
