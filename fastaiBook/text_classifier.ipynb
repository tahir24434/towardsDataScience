{
 "cells": [
  {
   "cell_type": "code",
   "execution_count": null,
   "id": "3458363e-de4b-480a-9514-eaa89d09aaaa",
   "metadata": {
    "tags": []
   },
   "outputs": [],
   "source": [
    "from fastbook import *\n",
    "from fastai.vision.widgets import *\n",
    "from fastai.text.all import *"
   ]
  },
  {
   "cell_type": "code",
   "execution_count": null,
   "id": "a901a278-8b88-409b-9c08-05df195d70ee",
   "metadata": {
    "tags": []
   },
   "outputs": [],
   "source": [
    "path = Path(f'{os.getcwd()}/imdb')\n",
    "path = untar_data(URLs.IMDB, data=path)\n",
    "path.ls()"
   ]
  },
  {
   "cell_type": "code",
   "execution_count": null,
   "id": "f29a48ea-e748-4fb2-8609-2c64a074f01b",
   "metadata": {
    "tags": []
   },
   "outputs": [],
   "source": [
    "(path/'train').ls()"
   ]
  },
  {
   "cell_type": "code",
   "execution_count": null,
   "id": "6fc3004c-cbcc-4e80-ba2f-955b7486b440",
   "metadata": {
    "tags": []
   },
   "outputs": [],
   "source": [
    "imdb = DataBlock(\n",
    "    blocks=(TextBlock.from_folder(path), CategoryBlock),\n",
    "    get_items=get_text_files,\n",
    "    get_y=parent_label,\n",
    "    splitter=GrandparentSplitter(valid_name='test'))"
   ]
  },
  {
   "cell_type": "code",
   "execution_count": null,
   "id": "a91fa9b8-626f-4f18-865b-4a026b4ed4ba",
   "metadata": {
    "tags": []
   },
   "outputs": [],
   "source": [
    "dls = imdb.dataloaders(path)"
   ]
  },
  {
   "cell_type": "code",
   "execution_count": null,
   "id": "1e9144b7-bb36-490b-ac70-6bd2a7c01e2b",
   "metadata": {
    "tags": []
   },
   "outputs": [],
   "source": [
    "learn = language_model_learner(dls, AWD_LSTM, metrics=[accuracy, Perplexity()], path=path, wd=0.1).to_fp16()"
   ]
  },
  {
   "cell_type": "code",
   "execution_count": null,
   "id": "d1fe7a3e-d7c2-41f7-b219-843655ec18ef",
   "metadata": {
    "tags": []
   },
   "outputs": [],
   "source": [
    "learn.fit_one_cycle(1, 1e-2)"
   ]
  },
  {
   "cell_type": "code",
   "execution_count": null,
   "id": "d7fc7c3c-5d24-4692-ad92-503d454141cf",
   "metadata": {},
   "outputs": [],
   "source": []
  }
 ],
 "metadata": {
  "kernelspec": {
   "display_name": "conda_fastai",
   "language": "python",
   "name": "conda_fastai"
  },
  "language_info": {
   "codemirror_mode": {
    "name": "ipython",
    "version": 3
   },
   "file_extension": ".py",
   "mimetype": "text/x-python",
   "name": "python",
   "nbconvert_exporter": "python",
   "pygments_lexer": "ipython3",
   "version": "3.10.8"
  }
 },
 "nbformat": 4,
 "nbformat_minor": 5
}
