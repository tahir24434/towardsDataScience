{
 "cells": [
  {
   "cell_type": "code",
   "execution_count": 1,
   "id": "3458363e-de4b-480a-9514-eaa89d09aaaa",
   "metadata": {
    "tags": []
   },
   "outputs": [],
   "source": [
    "from fastbook import *\n",
    "from fastai.vision.widgets import *\n",
    "from fastai.text.all import *"
   ]
  },
  {
   "cell_type": "code",
   "execution_count": 2,
   "id": "a901a278-8b88-409b-9c08-05df195d70ee",
   "metadata": {
    "tags": []
   },
   "outputs": [
    {
     "data": {
      "text/plain": [
       "(#7) [Path('/home/ec2-user/SageMaker/towardsDataScience/fastaiBook/imdb/imdb/train'),Path('/home/ec2-user/SageMaker/towardsDataScience/fastaiBook/imdb/imdb/tmp_lm'),Path('/home/ec2-user/SageMaker/towardsDataScience/fastaiBook/imdb/imdb/tmp_clas'),Path('/home/ec2-user/SageMaker/towardsDataScience/fastaiBook/imdb/imdb/imdb.vocab'),Path('/home/ec2-user/SageMaker/towardsDataScience/fastaiBook/imdb/imdb/unsup'),Path('/home/ec2-user/SageMaker/towardsDataScience/fastaiBook/imdb/imdb/README'),Path('/home/ec2-user/SageMaker/towardsDataScience/fastaiBook/imdb/imdb/test')]"
      ]
     },
     "execution_count": 2,
     "metadata": {},
     "output_type": "execute_result"
    }
   ],
   "source": [
    "path = Path(f'{os.getcwd()}/imdb')\n",
    "path = untar_data(URLs.IMDB, data=path)\n",
    "path.ls()"
   ]
  },
  {
   "cell_type": "code",
   "execution_count": 3,
   "id": "f29a48ea-e748-4fb2-8609-2c64a074f01b",
   "metadata": {
    "tags": []
   },
   "outputs": [
    {
     "data": {
      "text/plain": [
       "(#4) [Path('/home/ec2-user/SageMaker/towardsDataScience/fastaiBook/imdb/imdb/train/neg'),Path('/home/ec2-user/SageMaker/towardsDataScience/fastaiBook/imdb/imdb/train/labeledBow.feat'),Path('/home/ec2-user/SageMaker/towardsDataScience/fastaiBook/imdb/imdb/train/unsupBow.feat'),Path('/home/ec2-user/SageMaker/towardsDataScience/fastaiBook/imdb/imdb/train/pos')]"
      ]
     },
     "execution_count": 3,
     "metadata": {},
     "output_type": "execute_result"
    }
   ],
   "source": [
    "(path/'train').ls()"
   ]
  },
  {
   "cell_type": "code",
   "execution_count": 4,
   "id": "6fc3004c-cbcc-4e80-ba2f-955b7486b440",
   "metadata": {
    "tags": []
   },
   "outputs": [],
   "source": [
    "imdb = DataBlock(\n",
    "    blocks=(TextBlock.from_folder(path), CategoryBlock),\n",
    "    get_items=get_text_files,\n",
    "    get_y=parent_label,\n",
    "    splitter=GrandparentSplitter(valid_name='test'))"
   ]
  },
  {
   "cell_type": "code",
   "execution_count": 5,
   "id": "a91fa9b8-626f-4f18-865b-4a026b4ed4ba",
   "metadata": {
    "tags": []
   },
   "outputs": [],
   "source": [
    "dls = imdb.dataloaders(path)"
   ]
  },
  {
   "cell_type": "code",
   "execution_count": 6,
   "id": "1e9144b7-bb36-490b-ac70-6bd2a7c01e2b",
   "metadata": {
    "tags": []
   },
   "outputs": [],
   "source": [
    "learn = text_classifier_learner(dls, AWD_LSTM, drop_mult=0.5, metrics=accuracy)"
   ]
  },
  {
   "cell_type": "code",
   "execution_count": null,
   "id": "d1fe7a3e-d7c2-41f7-b219-843655ec18ef",
   "metadata": {
    "tags": []
   },
   "outputs": [
    {
     "data": {
      "text/html": [
       "\n",
       "<style>\n",
       "    /* Turns off some styling */\n",
       "    progress {\n",
       "        /* gets rid of default border in Firefox and Opera. */\n",
       "        border: none;\n",
       "        /* Needs to be in here for Safari polyfill so background images work as expected. */\n",
       "        background-size: auto;\n",
       "    }\n",
       "    progress:not([value]), progress:not([value])::-webkit-progress-bar {\n",
       "        background: repeating-linear-gradient(45deg, #7e7e7e, #7e7e7e 10px, #5c5c5c 10px, #5c5c5c 20px);\n",
       "    }\n",
       "    .progress-bar-interrupted, .progress-bar-interrupted::-webkit-progress-bar {\n",
       "        background: #F44336;\n",
       "    }\n",
       "</style>\n"
      ],
      "text/plain": [
       "<IPython.core.display.HTML object>"
      ]
     },
     "metadata": {},
     "output_type": "display_data"
    },
    {
     "data": {
      "text/html": [
       "<table border=\"1\" class=\"dataframe\">\n",
       "  <thead>\n",
       "    <tr style=\"text-align: left;\">\n",
       "      <th>epoch</th>\n",
       "      <th>train_loss</th>\n",
       "      <th>valid_loss</th>\n",
       "      <th>accuracy</th>\n",
       "      <th>time</th>\n",
       "    </tr>\n",
       "  </thead>\n",
       "  <tbody>\n",
       "    <tr>\n",
       "      <td>0</td>\n",
       "      <td>0.465443</td>\n",
       "      <td>0.387971</td>\n",
       "      <td>0.829400</td>\n",
       "      <td>20:36</td>\n",
       "    </tr>\n",
       "  </tbody>\n",
       "</table>"
      ],
      "text/plain": [
       "<IPython.core.display.HTML object>"
      ]
     },
     "metadata": {},
     "output_type": "display_data"
    },
    {
     "data": {
      "text/html": [
       "\n",
       "<style>\n",
       "    /* Turns off some styling */\n",
       "    progress {\n",
       "        /* gets rid of default border in Firefox and Opera. */\n",
       "        border: none;\n",
       "        /* Needs to be in here for Safari polyfill so background images work as expected. */\n",
       "        background-size: auto;\n",
       "    }\n",
       "    progress:not([value]), progress:not([value])::-webkit-progress-bar {\n",
       "        background: repeating-linear-gradient(45deg, #7e7e7e, #7e7e7e 10px, #5c5c5c 10px, #5c5c5c 20px);\n",
       "    }\n",
       "    .progress-bar-interrupted, .progress-bar-interrupted::-webkit-progress-bar {\n",
       "        background: #F44336;\n",
       "    }\n",
       "</style>\n"
      ],
      "text/plain": [
       "<IPython.core.display.HTML object>"
      ]
     },
     "metadata": {},
     "output_type": "display_data"
    },
    {
     "data": {
      "text/html": [
       "\n",
       "    <div>\n",
       "      <progress value='6' class='' max='7' style='width:300px; height:20px; vertical-align: middle;'></progress>\n",
       "      85.71% [6/7 4:08:58&lt;41:29]\n",
       "    </div>\n",
       "    \n",
       "<table border=\"1\" class=\"dataframe\">\n",
       "  <thead>\n",
       "    <tr style=\"text-align: left;\">\n",
       "      <th>epoch</th>\n",
       "      <th>train_loss</th>\n",
       "      <th>valid_loss</th>\n",
       "      <th>accuracy</th>\n",
       "      <th>time</th>\n",
       "    </tr>\n",
       "  </thead>\n",
       "  <tbody>\n",
       "    <tr>\n",
       "      <td>0</td>\n",
       "      <td>0.307298</td>\n",
       "      <td>0.300743</td>\n",
       "      <td>0.881120</td>\n",
       "      <td>35:51</td>\n",
       "    </tr>\n",
       "    <tr>\n",
       "      <td>1</td>\n",
       "      <td>0.268094</td>\n",
       "      <td>0.224127</td>\n",
       "      <td>0.909120</td>\n",
       "      <td>42:23</td>\n",
       "    </tr>\n",
       "    <tr>\n",
       "      <td>2</td>\n",
       "      <td>0.219089</td>\n",
       "      <td>0.201353</td>\n",
       "      <td>0.923960</td>\n",
       "      <td>42:22</td>\n",
       "    </tr>\n",
       "    <tr>\n",
       "      <td>3</td>\n",
       "      <td>0.167144</td>\n",
       "      <td>0.201657</td>\n",
       "      <td>0.924640</td>\n",
       "      <td>42:37</td>\n",
       "    </tr>\n",
       "    <tr>\n",
       "      <td>4</td>\n",
       "      <td>0.130766</td>\n",
       "      <td>0.246479</td>\n",
       "      <td>0.911960</td>\n",
       "      <td>42:29</td>\n",
       "    </tr>\n",
       "    <tr>\n",
       "      <td>5</td>\n",
       "      <td>0.090439</td>\n",
       "      <td>0.219975</td>\n",
       "      <td>0.928720</td>\n",
       "      <td>43:13</td>\n",
       "    </tr>\n",
       "  </tbody>\n",
       "</table><p>\n",
       "\n",
       "    <div>\n",
       "      <progress value='374' class='' max='390' style='width:300px; height:20px; vertical-align: middle;'></progress>\n",
       "      95.90% [374/390 32:53&lt;01:24 0.0659]\n",
       "    </div>\n",
       "    "
      ],
      "text/plain": [
       "<IPython.core.display.HTML object>"
      ]
     },
     "metadata": {},
     "output_type": "display_data"
    }
   ],
   "source": [
    "learn.fine_tune(7, 1e-2)"
   ]
  },
  {
   "cell_type": "markdown",
   "id": "570247d7-db33-4021-9086-dd3eebf162d7",
   "metadata": {
    "tags": []
   },
   "source": [
    "When we use a model for getting predictions, instead of training, we call it inference. To create our inference learner from the exported file, we use load_learner (in this case, this isn't really necessary, since we already have a working Learner in our notebook; we're just doing it here so you can see the whole process end-to-end):"
   ]
  },
  {
   "cell_type": "code",
   "execution_count": null,
   "id": "4a32139c-60f0-434a-9aea-82df9c1b2912",
   "metadata": {
    "tags": []
   },
   "outputs": [],
   "source": [
    "learn.export(fname=\"text_classifier.pkl\")"
   ]
  },
  {
   "cell_type": "code",
   "execution_count": 14,
   "id": "d163334f-2226-4f89-9403-6fc3ddc20389",
   "metadata": {
    "tags": []
   },
   "outputs": [],
   "source": [
    "path = Path(f'{os.getcwd()}')\n",
    "learn = load_learner(path/'text_classifier.pkl')"
   ]
  },
  {
   "cell_type": "code",
   "execution_count": 15,
   "id": "7b876a9d-cf0a-4ea2-8ee8-7626c37fb65c",
   "metadata": {
    "tags": []
   },
   "outputs": [
    {
     "data": {
      "text/html": [
       "\n",
       "<style>\n",
       "    /* Turns off some styling */\n",
       "    progress {\n",
       "        /* gets rid of default border in Firefox and Opera. */\n",
       "        border: none;\n",
       "        /* Needs to be in here for Safari polyfill so background images work as expected. */\n",
       "        background-size: auto;\n",
       "    }\n",
       "    progress:not([value]), progress:not([value])::-webkit-progress-bar {\n",
       "        background: repeating-linear-gradient(45deg, #7e7e7e, #7e7e7e 10px, #5c5c5c 10px, #5c5c5c 20px);\n",
       "    }\n",
       "    .progress-bar-interrupted, .progress-bar-interrupted::-webkit-progress-bar {\n",
       "        background: #F44336;\n",
       "    }\n",
       "</style>\n"
      ],
      "text/plain": [
       "<IPython.core.display.HTML object>"
      ]
     },
     "metadata": {},
     "output_type": "display_data"
    },
    {
     "data": {
      "text/html": [],
      "text/plain": [
       "<IPython.core.display.HTML object>"
      ]
     },
     "metadata": {},
     "output_type": "display_data"
    },
    {
     "data": {
      "text/plain": [
       "('pos', tensor(1), tensor([0.0015, 0.9985]))"
      ]
     },
     "execution_count": 15,
     "metadata": {},
     "output_type": "execute_result"
    }
   ],
   "source": [
    "learn.predict(\"I really liked that movie!\")"
   ]
  },
  {
   "cell_type": "code",
   "execution_count": 16,
   "id": "6d3555de-8e69-4492-9cb9-8fe3da758c0c",
   "metadata": {
    "tags": []
   },
   "outputs": [
    {
     "ename": "ValueError",
     "evalue": "This DataLoader does not contain any batches",
     "output_type": "error",
     "traceback": [
      "\u001b[0;31m---------------------------------------------------------------------------\u001b[0m",
      "\u001b[0;31mValueError\u001b[0m                                Traceback (most recent call last)",
      "Cell \u001b[0;32mIn[16], line 1\u001b[0m\n\u001b[0;32m----> 1\u001b[0m \u001b[43mlearn\u001b[49m\u001b[38;5;241;43m.\u001b[39;49m\u001b[43mshow_results\u001b[49m\u001b[43m(\u001b[49m\u001b[43m)\u001b[49m\n",
      "File \u001b[0;32m~/anaconda3/envs/fastai/lib/python3.10/site-packages/fastai/learner.py:332\u001b[0m, in \u001b[0;36mLearner.show_results\u001b[0;34m(self, ds_idx, dl, max_n, shuffle, **kwargs)\u001b[0m\n\u001b[1;32m    330\u001b[0m \u001b[38;5;28;01mdef\u001b[39;00m \u001b[38;5;21mshow_results\u001b[39m(\u001b[38;5;28mself\u001b[39m, ds_idx\u001b[38;5;241m=\u001b[39m\u001b[38;5;241m1\u001b[39m, dl\u001b[38;5;241m=\u001b[39m\u001b[38;5;28;01mNone\u001b[39;00m, max_n\u001b[38;5;241m=\u001b[39m\u001b[38;5;241m9\u001b[39m, shuffle\u001b[38;5;241m=\u001b[39m\u001b[38;5;28;01mTrue\u001b[39;00m, \u001b[38;5;241m*\u001b[39m\u001b[38;5;241m*\u001b[39mkwargs):\n\u001b[1;32m    331\u001b[0m     \u001b[38;5;28;01mif\u001b[39;00m dl \u001b[38;5;129;01mis\u001b[39;00m \u001b[38;5;28;01mNone\u001b[39;00m: dl \u001b[38;5;241m=\u001b[39m \u001b[38;5;28mself\u001b[39m\u001b[38;5;241m.\u001b[39mdls[ds_idx]\u001b[38;5;241m.\u001b[39mnew(shuffle\u001b[38;5;241m=\u001b[39mshuffle)\n\u001b[0;32m--> 332\u001b[0m     b \u001b[38;5;241m=\u001b[39m \u001b[43mdl\u001b[49m\u001b[38;5;241;43m.\u001b[39;49m\u001b[43mone_batch\u001b[49m\u001b[43m(\u001b[49m\u001b[43m)\u001b[49m\n\u001b[1;32m    333\u001b[0m     _,_,preds \u001b[38;5;241m=\u001b[39m \u001b[38;5;28mself\u001b[39m\u001b[38;5;241m.\u001b[39mget_preds(dl\u001b[38;5;241m=\u001b[39m[b], with_decoded\u001b[38;5;241m=\u001b[39m\u001b[38;5;28;01mTrue\u001b[39;00m)\n\u001b[1;32m    334\u001b[0m     dl\u001b[38;5;241m.\u001b[39mshow_results(b, preds, max_n\u001b[38;5;241m=\u001b[39mmax_n, \u001b[38;5;241m*\u001b[39m\u001b[38;5;241m*\u001b[39mkwargs)\n",
      "File \u001b[0;32m~/anaconda3/envs/fastai/lib/python3.10/site-packages/fastai/data/load.py:171\u001b[0m, in \u001b[0;36mDataLoader.one_batch\u001b[0;34m(self)\u001b[0m\n\u001b[1;32m    170\u001b[0m \u001b[38;5;28;01mdef\u001b[39;00m \u001b[38;5;21mone_batch\u001b[39m(\u001b[38;5;28mself\u001b[39m):\n\u001b[0;32m--> 171\u001b[0m     \u001b[38;5;28;01mif\u001b[39;00m \u001b[38;5;28mself\u001b[39m\u001b[38;5;241m.\u001b[39mn \u001b[38;5;129;01mis\u001b[39;00m \u001b[38;5;129;01mnot\u001b[39;00m \u001b[38;5;28;01mNone\u001b[39;00m \u001b[38;5;129;01mand\u001b[39;00m \u001b[38;5;28mlen\u001b[39m(\u001b[38;5;28mself\u001b[39m)\u001b[38;5;241m==\u001b[39m\u001b[38;5;241m0\u001b[39m: \u001b[38;5;28;01mraise\u001b[39;00m \u001b[38;5;167;01mValueError\u001b[39;00m(\u001b[38;5;124mf\u001b[39m\u001b[38;5;124m'\u001b[39m\u001b[38;5;124mThis DataLoader does not contain any batches\u001b[39m\u001b[38;5;124m'\u001b[39m)\n\u001b[1;32m    172\u001b[0m     \u001b[38;5;28;01mwith\u001b[39;00m \u001b[38;5;28mself\u001b[39m\u001b[38;5;241m.\u001b[39mfake_l\u001b[38;5;241m.\u001b[39mno_multiproc(): res \u001b[38;5;241m=\u001b[39m first(\u001b[38;5;28mself\u001b[39m)\n\u001b[1;32m    173\u001b[0m     \u001b[38;5;28;01mif\u001b[39;00m \u001b[38;5;28mhasattr\u001b[39m(\u001b[38;5;28mself\u001b[39m, \u001b[38;5;124m'\u001b[39m\u001b[38;5;124mit\u001b[39m\u001b[38;5;124m'\u001b[39m): \u001b[38;5;28mdelattr\u001b[39m(\u001b[38;5;28mself\u001b[39m, \u001b[38;5;124m'\u001b[39m\u001b[38;5;124mit\u001b[39m\u001b[38;5;124m'\u001b[39m)\n",
      "\u001b[0;31mValueError\u001b[0m: This DataLoader does not contain any batches"
     ]
    }
   ],
   "source": [
    "learn.show_results()"
   ]
  },
  {
   "cell_type": "code",
   "execution_count": null,
   "id": "499ce122-7425-45ef-9dd9-8d50813e11ef",
   "metadata": {},
   "outputs": [],
   "source": []
  }
 ],
 "metadata": {
  "kernelspec": {
   "display_name": "conda_fastai",
   "language": "python",
   "name": "conda_fastai"
  },
  "language_info": {
   "codemirror_mode": {
    "name": "ipython",
    "version": 3
   },
   "file_extension": ".py",
   "mimetype": "text/x-python",
   "name": "python",
   "nbconvert_exporter": "python",
   "pygments_lexer": "ipython3",
   "version": "3.10.8"
  }
 },
 "nbformat": 4,
 "nbformat_minor": 5
}
